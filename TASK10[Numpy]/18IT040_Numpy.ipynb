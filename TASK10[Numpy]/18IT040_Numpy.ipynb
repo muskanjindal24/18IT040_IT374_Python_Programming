{
  "nbformat": 4,
  "nbformat_minor": 0,
  "metadata": {
    "kernelspec": {
      "display_name": "Python 3",
      "language": "python",
      "name": "python3"
    },
    "language_info": {
      "codemirror_mode": {
        "name": "ipython",
        "version": 3
      },
      "file_extension": ".py",
      "mimetype": "text/x-python",
      "name": "python",
      "nbconvert_exporter": "python",
      "pygments_lexer": "ipython3",
      "version": "3.6.4"
    },
    "colab": {
      "name": "18IT040.ipynb",
      "provenance": [],
      "collapsed_sections": []
    }
  },
  "cells": [
    {
      "cell_type": "markdown",
      "metadata": {
        "id": "ukgSJp6fAW11",
        "colab_type": "text"
      },
      "source": [
        "# NumPy Lab Exercises \n",
        "\n",
        "Solve the following questions in Lab to test your knowledge on NumPy Package!"
      ]
    },
    {
      "cell_type": "markdown",
      "metadata": {
        "id": "WhjBpO1IAW15",
        "colab_type": "text"
      },
      "source": [
        "#### Import NumPy package as np"
      ]
    },
    {
      "cell_type": "code",
      "metadata": {
        "id": "wg6HkS8aAW16",
        "colab_type": "code",
        "colab": {}
      },
      "source": [
        "import numpy as np"
      ],
      "execution_count": 1,
      "outputs": []
    },
    {
      "cell_type": "markdown",
      "metadata": {
        "id": "Hg-xnJdeAW19",
        "colab_type": "text"
      },
      "source": [
        "#### Create an array of 20 0's "
      ]
    },
    {
      "cell_type": "code",
      "metadata": {
        "id": "G1MFteJSAW1-",
        "colab_type": "code",
        "colab": {
          "base_uri": "https://localhost:8080/",
          "height": 51
        },
        "outputId": "c9f646c4-5633-4a48-a314-ef49ca5f4a63"
      },
      "source": [
        "np.zeros(20)"
      ],
      "execution_count": 2,
      "outputs": [
        {
          "output_type": "execute_result",
          "data": {
            "text/plain": [
              "array([0., 0., 0., 0., 0., 0., 0., 0., 0., 0., 0., 0., 0., 0., 0., 0., 0.,\n",
              "       0., 0., 0.])"
            ]
          },
          "metadata": {
            "tags": []
          },
          "execution_count": 2
        }
      ]
    },
    {
      "cell_type": "markdown",
      "metadata": {
        "id": "FWr1aQ8NAW2B",
        "colab_type": "text"
      },
      "source": [
        "#### Create an array of 20 1's"
      ]
    },
    {
      "cell_type": "code",
      "metadata": {
        "id": "Ftuyd138AW2C",
        "colab_type": "code",
        "colab": {
          "base_uri": "https://localhost:8080/",
          "height": 51
        },
        "outputId": "4200e2b8-b15e-4292-c23d-5b3edad69daf"
      },
      "source": [
        "np.ones(20)"
      ],
      "execution_count": 3,
      "outputs": [
        {
          "output_type": "execute_result",
          "data": {
            "text/plain": [
              "array([1., 1., 1., 1., 1., 1., 1., 1., 1., 1., 1., 1., 1., 1., 1., 1., 1.,\n",
              "       1., 1., 1.])"
            ]
          },
          "metadata": {
            "tags": []
          },
          "execution_count": 3
        }
      ]
    },
    {
      "cell_type": "markdown",
      "metadata": {
        "id": "wWji5sjBAW2E",
        "colab_type": "text"
      },
      "source": [
        "#### Create an array containing 30 times 10"
      ]
    },
    {
      "cell_type": "code",
      "metadata": {
        "id": "7BWh-jvaAW2F",
        "colab_type": "code",
        "colab": {
          "base_uri": "https://localhost:8080/",
          "height": 68
        },
        "outputId": "f1d336fa-2883-4e36-efd0-b85c4c3fa88f"
      },
      "source": [
        "np.ones(30)*10"
      ],
      "execution_count": 4,
      "outputs": [
        {
          "output_type": "execute_result",
          "data": {
            "text/plain": [
              "array([10., 10., 10., 10., 10., 10., 10., 10., 10., 10., 10., 10., 10.,\n",
              "       10., 10., 10., 10., 10., 10., 10., 10., 10., 10., 10., 10., 10.,\n",
              "       10., 10., 10., 10.])"
            ]
          },
          "metadata": {
            "tags": []
          },
          "execution_count": 4
        }
      ]
    },
    {
      "cell_type": "markdown",
      "metadata": {
        "id": "iJoUHC-qAW2G",
        "colab_type": "text"
      },
      "source": [
        "#### Create an array of integers starting from 21 until 31"
      ]
    },
    {
      "cell_type": "code",
      "metadata": {
        "id": "TV_LiDH0AW2H",
        "colab_type": "code",
        "colab": {
          "base_uri": "https://localhost:8080/",
          "height": 34
        },
        "outputId": "f0588c21-2fc2-44b2-c673-4649d384b340"
      },
      "source": [
        "np.arange(21,31)"
      ],
      "execution_count": 6,
      "outputs": [
        {
          "output_type": "execute_result",
          "data": {
            "text/plain": [
              "array([21, 22, 23, 24, 25, 26, 27, 28, 29, 30])"
            ]
          },
          "metadata": {
            "tags": []
          },
          "execution_count": 6
        }
      ]
    },
    {
      "cell_type": "markdown",
      "metadata": {
        "id": "XksxwEd4AW2J",
        "colab_type": "text"
      },
      "source": [
        "#### Create an array of all even integers from 2 to 60"
      ]
    },
    {
      "cell_type": "code",
      "metadata": {
        "id": "ONs6lo55AW2K",
        "colab_type": "code",
        "colab": {
          "base_uri": "https://localhost:8080/",
          "height": 51
        },
        "outputId": "71e017ee-7bd4-4eba-f644-2254f44c49b3"
      },
      "source": [
        "np.arange(2,60,2)"
      ],
      "execution_count": 7,
      "outputs": [
        {
          "output_type": "execute_result",
          "data": {
            "text/plain": [
              "array([ 2,  4,  6,  8, 10, 12, 14, 16, 18, 20, 22, 24, 26, 28, 30, 32, 34,\n",
              "       36, 38, 40, 42, 44, 46, 48, 50, 52, 54, 56, 58])"
            ]
          },
          "metadata": {
            "tags": []
          },
          "execution_count": 7
        }
      ]
    },
    {
      "cell_type": "markdown",
      "metadata": {
        "id": "qmW5M2NZAW2L",
        "colab_type": "text"
      },
      "source": [
        "#### Create a 5x6 matrix with values ranging from 0 to 29"
      ]
    },
    {
      "cell_type": "code",
      "metadata": {
        "id": "oW4l0VhdAW2M",
        "colab_type": "code",
        "colab": {
          "base_uri": "https://localhost:8080/",
          "height": 102
        },
        "outputId": "49f62d86-88e1-4df1-a86d-d59448aa0c0e"
      },
      "source": [
        "np.arange(0,30).reshape(5,6)"
      ],
      "execution_count": 8,
      "outputs": [
        {
          "output_type": "execute_result",
          "data": {
            "text/plain": [
              "array([[ 0,  1,  2,  3,  4,  5],\n",
              "       [ 6,  7,  8,  9, 10, 11],\n",
              "       [12, 13, 14, 15, 16, 17],\n",
              "       [18, 19, 20, 21, 22, 23],\n",
              "       [24, 25, 26, 27, 28, 29]])"
            ]
          },
          "metadata": {
            "tags": []
          },
          "execution_count": 8
        }
      ]
    },
    {
      "cell_type": "markdown",
      "metadata": {
        "id": "6MKLZo_2AW2O",
        "colab_type": "text"
      },
      "source": [
        "#### Create an identity matrix of shape 5x5"
      ]
    },
    {
      "cell_type": "code",
      "metadata": {
        "id": "WDgHmPlJAW2P",
        "colab_type": "code",
        "colab": {
          "base_uri": "https://localhost:8080/",
          "height": 102
        },
        "outputId": "77bf98e5-3d07-4570-f919-40197bfab2be"
      },
      "source": [
        "np.identity(5)"
      ],
      "execution_count": 9,
      "outputs": [
        {
          "output_type": "execute_result",
          "data": {
            "text/plain": [
              "array([[1., 0., 0., 0., 0.],\n",
              "       [0., 1., 0., 0., 0.],\n",
              "       [0., 0., 1., 0., 0.],\n",
              "       [0., 0., 0., 1., 0.],\n",
              "       [0., 0., 0., 0., 1.]])"
            ]
          },
          "metadata": {
            "tags": []
          },
          "execution_count": 9
        }
      ]
    },
    {
      "cell_type": "markdown",
      "metadata": {
        "id": "qH5pW4VUAW2U",
        "colab_type": "text"
      },
      "source": [
        "#### Use NumPy to generate a random set of 10 numbers between 0 and 1"
      ]
    },
    {
      "cell_type": "code",
      "metadata": {
        "id": "xQcvovmAAW2V",
        "colab_type": "code",
        "colab": {
          "base_uri": "https://localhost:8080/",
          "height": 51
        },
        "outputId": "9fd5af5c-2361-45ed-d26f-74f23c118a19"
      },
      "source": [
        "np.random.normal(0,1,10)"
      ],
      "execution_count": 10,
      "outputs": [
        {
          "output_type": "execute_result",
          "data": {
            "text/plain": [
              "array([ 1.12837164, -0.64724371, -0.10715577,  2.60923617,  0.08280913,\n",
              "       -1.87586087,  0.43380945, -1.13772115,  1.61197134,  0.21882643])"
            ]
          },
          "metadata": {
            "tags": []
          },
          "execution_count": 10
        }
      ]
    },
    {
      "cell_type": "markdown",
      "metadata": {
        "id": "JmuKV97YAW2W",
        "colab_type": "text"
      },
      "source": [
        "#### Use NumPy to generate an array of 15 random numbers sampled from a standard normal distribution"
      ]
    },
    {
      "cell_type": "code",
      "metadata": {
        "id": "KvMIweGmAW2X",
        "colab_type": "code",
        "colab": {
          "base_uri": "https://localhost:8080/",
          "height": 68
        },
        "outputId": "d3a3d066-32e7-487a-848b-c491ffbb961c"
      },
      "source": [
        "np.random.normal(0,1,15)"
      ],
      "execution_count": 11,
      "outputs": [
        {
          "output_type": "execute_result",
          "data": {
            "text/plain": [
              "array([-0.70011492, -1.09373359, -0.98784149,  0.1555102 ,  0.64321886,\n",
              "        0.01266728,  1.07424629,  0.1758125 , -1.52388024, -0.69951304,\n",
              "       -1.28820952,  0.15791338, -2.66987261,  1.69431259,  0.80525505])"
            ]
          },
          "metadata": {
            "tags": []
          },
          "execution_count": 11
        }
      ]
    },
    {
      "cell_type": "markdown",
      "metadata": {
        "id": "Ymhy86jrAW2Z",
        "colab_type": "text"
      },
      "source": [
        "#### Create the following 5x10 matrix with the values using arange,reshape and arithmetic operators:"
      ]
    },
    {
      "cell_type": "code",
      "metadata": {
        "id": "1LrRpRh2AW2Z",
        "colab_type": "code",
        "colab": {
          "base_uri": "https://localhost:8080/",
          "height": 102
        },
        "outputId": "8961f22c-9101-483e-af32-1b6b30021924"
      },
      "source": [
        "np.arange(0.01,0.51,0.01).reshape(5,10)"
      ],
      "execution_count": 14,
      "outputs": [
        {
          "output_type": "execute_result",
          "data": {
            "text/plain": [
              "array([[0.01, 0.02, 0.03, 0.04, 0.05, 0.06, 0.07, 0.08, 0.09, 0.1 ],\n",
              "       [0.11, 0.12, 0.13, 0.14, 0.15, 0.16, 0.17, 0.18, 0.19, 0.2 ],\n",
              "       [0.21, 0.22, 0.23, 0.24, 0.25, 0.26, 0.27, 0.28, 0.29, 0.3 ],\n",
              "       [0.31, 0.32, 0.33, 0.34, 0.35, 0.36, 0.37, 0.38, 0.39, 0.4 ],\n",
              "       [0.41, 0.42, 0.43, 0.44, 0.45, 0.46, 0.47, 0.48, 0.49, 0.5 ]])"
            ]
          },
          "metadata": {
            "tags": []
          },
          "execution_count": 14
        }
      ]
    },
    {
      "cell_type": "markdown",
      "metadata": {
        "id": "1Cn1vRGfAW2b",
        "colab_type": "text"
      },
      "source": [
        "#### Create an array of 30 linearly spaced points between 0 and 10:"
      ]
    },
    {
      "cell_type": "code",
      "metadata": {
        "id": "WX34rDFPAW2b",
        "colab_type": "code",
        "colab": {
          "base_uri": "https://localhost:8080/",
          "height": 119
        },
        "outputId": "66b408fc-9ab5-446b-ef41-d6d72a3329f3"
      },
      "source": [
        "np.linspace(0,10.0,num=30)"
      ],
      "execution_count": 15,
      "outputs": [
        {
          "output_type": "execute_result",
          "data": {
            "text/plain": [
              "array([ 0.        ,  0.34482759,  0.68965517,  1.03448276,  1.37931034,\n",
              "        1.72413793,  2.06896552,  2.4137931 ,  2.75862069,  3.10344828,\n",
              "        3.44827586,  3.79310345,  4.13793103,  4.48275862,  4.82758621,\n",
              "        5.17241379,  5.51724138,  5.86206897,  6.20689655,  6.55172414,\n",
              "        6.89655172,  7.24137931,  7.5862069 ,  7.93103448,  8.27586207,\n",
              "        8.62068966,  8.96551724,  9.31034483,  9.65517241, 10.        ])"
            ]
          },
          "metadata": {
            "tags": []
          },
          "execution_count": 15
        }
      ]
    },
    {
      "cell_type": "markdown",
      "metadata": {
        "id": "GVUuzuwhAW2d",
        "colab_type": "text"
      },
      "source": [
        "## Numpy Indexing and Selections\n",
        "\n",
        "Using the below given Matrix, generate the output for the below questions"
      ]
    },
    {
      "cell_type": "code",
      "metadata": {
        "id": "UEMB1NxjAW2e",
        "colab_type": "code",
        "colab": {
          "base_uri": "https://localhost:8080/",
          "height": 187
        },
        "outputId": "34102943-033c-47a9-906c-a8350e83120a"
      },
      "source": [
        "ans = np.arange(1,101).reshape(10,10)\n",
        "print(ans)"
      ],
      "execution_count": 16,
      "outputs": [
        {
          "output_type": "stream",
          "text": [
            "[[  1   2   3   4   5   6   7   8   9  10]\n",
            " [ 11  12  13  14  15  16  17  18  19  20]\n",
            " [ 21  22  23  24  25  26  27  28  29  30]\n",
            " [ 31  32  33  34  35  36  37  38  39  40]\n",
            " [ 41  42  43  44  45  46  47  48  49  50]\n",
            " [ 51  52  53  54  55  56  57  58  59  60]\n",
            " [ 61  62  63  64  65  66  67  68  69  70]\n",
            " [ 71  72  73  74  75  76  77  78  79  80]\n",
            " [ 81  82  83  84  85  86  87  88  89  90]\n",
            " [ 91  92  93  94  95  96  97  98  99 100]]\n"
          ],
          "name": "stdout"
        }
      ]
    },
    {
      "cell_type": "markdown",
      "metadata": {
        "collapsed": true,
        "id": "vR_B3jovAW2f",
        "colab_type": "text"
      },
      "source": [
        "#### Retrieve the last 2 rows and first 3 column values of the above matrix using index & selection technique"
      ]
    },
    {
      "cell_type": "code",
      "metadata": {
        "id": "ngVnlGSVAW2g",
        "colab_type": "code",
        "colab": {
          "base_uri": "https://localhost:8080/",
          "height": 51
        },
        "outputId": "709d4d64-dd2d-4486-f5c6-e5dc02479aec"
      },
      "source": [
        "print(ans[8:,0:3])"
      ],
      "execution_count": 17,
      "outputs": [
        {
          "output_type": "stream",
          "text": [
            "[[81 82 83]\n",
            " [91 92 93]]\n"
          ],
          "name": "stdout"
        }
      ]
    },
    {
      "cell_type": "markdown",
      "metadata": {
        "collapsed": true,
        "id": "sfLFRnLtAW2i",
        "colab_type": "text"
      },
      "source": [
        "#### Retrieve the value 55 from the above matrix using index & selection technique"
      ]
    },
    {
      "cell_type": "code",
      "metadata": {
        "id": "4nG0TV_2AW2i",
        "colab_type": "code",
        "colab": {
          "base_uri": "https://localhost:8080/",
          "height": 34
        },
        "outputId": "d9cc2b5b-1d13-4ea2-e732-2cf43ab2ea7d"
      },
      "source": [
        "print(ans[5:6,4:5])"
      ],
      "execution_count": 18,
      "outputs": [
        {
          "output_type": "stream",
          "text": [
            "[[55]]\n"
          ],
          "name": "stdout"
        }
      ]
    },
    {
      "cell_type": "markdown",
      "metadata": {
        "collapsed": true,
        "id": "bEJE1HfjAW2k",
        "colab_type": "text"
      },
      "source": [
        "#### Retrieve the values from the 3rd column in the above matrix"
      ]
    },
    {
      "cell_type": "code",
      "metadata": {
        "id": "lCjEUUPEAW2l",
        "colab_type": "code",
        "colab": {
          "base_uri": "https://localhost:8080/",
          "height": 34
        },
        "outputId": "608fd7fc-2cf5-4c26-ad9e-3128ff182bd7"
      },
      "source": [
        "np.array(ans[0:,2:3]).flatten()"
      ],
      "execution_count": 20,
      "outputs": [
        {
          "output_type": "execute_result",
          "data": {
            "text/plain": [
              "array([ 3, 13, 23, 33, 43, 53, 63, 73, 83, 93])"
            ]
          },
          "metadata": {
            "tags": []
          },
          "execution_count": 20
        }
      ]
    },
    {
      "cell_type": "markdown",
      "metadata": {
        "collapsed": true,
        "id": "QVyA27OSAW2n",
        "colab_type": "text"
      },
      "source": [
        "#### Retrieve the values from the 4th row in the above matrix"
      ]
    },
    {
      "cell_type": "code",
      "metadata": {
        "id": "h0RLI84MAW2o",
        "colab_type": "code",
        "colab": {
          "base_uri": "https://localhost:8080/",
          "height": 34
        },
        "outputId": "4eb442f1-e001-4caf-e60b-ded60fcd0572"
      },
      "source": [
        "np.array(ans[3:4,:]).flatten()"
      ],
      "execution_count": 21,
      "outputs": [
        {
          "output_type": "execute_result",
          "data": {
            "text/plain": [
              "array([31, 32, 33, 34, 35, 36, 37, 38, 39, 40])"
            ]
          },
          "metadata": {
            "tags": []
          },
          "execution_count": 21
        }
      ]
    },
    {
      "cell_type": "markdown",
      "metadata": {
        "collapsed": true,
        "id": "oMeGccBJAW2s",
        "colab_type": "text"
      },
      "source": [
        "#### Retrieve values from the 2nd & 4th rows in the above matrix"
      ]
    },
    {
      "cell_type": "code",
      "metadata": {
        "id": "mHiaXbYPAW2t",
        "colab_type": "code",
        "colab": {
          "base_uri": "https://localhost:8080/",
          "height": 51
        },
        "outputId": "ba883e05-011b-4569-8e33-7bf175baf31b"
      },
      "source": [
        "np.array(ans[[2,4],:])"
      ],
      "execution_count": 23,
      "outputs": [
        {
          "output_type": "execute_result",
          "data": {
            "text/plain": [
              "array([[21, 22, 23, 24, 25, 26, 27, 28, 29, 30],\n",
              "       [41, 42, 43, 44, 45, 46, 47, 48, 49, 50]])"
            ]
          },
          "metadata": {
            "tags": []
          },
          "execution_count": 23
        }
      ]
    },
    {
      "cell_type": "markdown",
      "metadata": {
        "id": "qN-Bolc-AW2v",
        "colab_type": "text"
      },
      "source": [
        "#### Calculate sum of all the values in the matrix"
      ]
    },
    {
      "cell_type": "code",
      "metadata": {
        "id": "OQT68X_hAW2v",
        "colab_type": "code",
        "colab": {
          "base_uri": "https://localhost:8080/",
          "height": 34
        },
        "outputId": "b8f42583-6e73-4fd5-8b6d-24ead1ec4d21"
      },
      "source": [
        "np.sum(ans)"
      ],
      "execution_count": 24,
      "outputs": [
        {
          "output_type": "execute_result",
          "data": {
            "text/plain": [
              "5050"
            ]
          },
          "metadata": {
            "tags": []
          },
          "execution_count": 24
        }
      ]
    },
    {
      "cell_type": "markdown",
      "metadata": {
        "id": "52-Kuvc3AW2x",
        "colab_type": "text"
      },
      "source": [
        "#### Calculate standard deviation of all the values in the matrix"
      ]
    },
    {
      "cell_type": "code",
      "metadata": {
        "id": "5ylDmizDAW2x",
        "colab_type": "code",
        "colab": {
          "base_uri": "https://localhost:8080/",
          "height": 34
        },
        "outputId": "046bb601-4f32-40ba-e230-44fa9e06982f"
      },
      "source": [
        "np.std(ans)"
      ],
      "execution_count": 25,
      "outputs": [
        {
          "output_type": "execute_result",
          "data": {
            "text/plain": [
              "28.86607004772212"
            ]
          },
          "metadata": {
            "tags": []
          },
          "execution_count": 25
        }
      ]
    },
    {
      "cell_type": "markdown",
      "metadata": {
        "id": "o_sRVBcAAW2z",
        "colab_type": "text"
      },
      "source": [
        "#### Calculate the variance of all values in the matrix"
      ]
    },
    {
      "cell_type": "code",
      "metadata": {
        "id": "CLunEnMgAW2z",
        "colab_type": "code",
        "colab": {
          "base_uri": "https://localhost:8080/",
          "height": 34
        },
        "outputId": "9c06e047-19c9-4ee9-ca9b-49cdcf4eea00"
      },
      "source": [
        "np.var(ans)"
      ],
      "execution_count": 26,
      "outputs": [
        {
          "output_type": "execute_result",
          "data": {
            "text/plain": [
              "833.25"
            ]
          },
          "metadata": {
            "tags": []
          },
          "execution_count": 26
        }
      ]
    },
    {
      "cell_type": "markdown",
      "metadata": {
        "collapsed": true,
        "id": "WpMA_nN_AW21",
        "colab_type": "text"
      },
      "source": [
        "#### Calculate the mean of all values in the matrix"
      ]
    },
    {
      "cell_type": "code",
      "metadata": {
        "id": "lXKD4NNxAW21",
        "colab_type": "code",
        "colab": {
          "base_uri": "https://localhost:8080/",
          "height": 34
        },
        "outputId": "4a88db94-bebe-4447-8e37-fc74cfb3526c"
      },
      "source": [
        "np.mean(ans)"
      ],
      "execution_count": 27,
      "outputs": [
        {
          "output_type": "execute_result",
          "data": {
            "text/plain": [
              "50.5"
            ]
          },
          "metadata": {
            "tags": []
          },
          "execution_count": 27
        }
      ]
    },
    {
      "cell_type": "markdown",
      "metadata": {
        "id": "RUde7JfJAW23",
        "colab_type": "text"
      },
      "source": [
        "### End of Lab Exercise - NumPy"
      ]
    }
  ]
}