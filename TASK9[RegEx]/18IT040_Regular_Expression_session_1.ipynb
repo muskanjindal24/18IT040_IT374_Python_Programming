{
  "nbformat": 4,
  "nbformat_minor": 0,
  "metadata": {
    "kernelspec": {
      "display_name": "Python 3",
      "language": "python",
      "name": "python3"
    },
    "language_info": {
      "codemirror_mode": {
        "name": "ipython",
        "version": 3
      },
      "file_extension": ".py",
      "mimetype": "text/x-python",
      "name": "python",
      "nbconvert_exporter": "python",
      "pygments_lexer": "ipython3",
      "version": "3.8.3"
    },
    "colab": {
      "name": "Copy of Regular_Expression_session_1.ipynb",
      "provenance": [],
      "collapsed_sections": []
    }
  },
  "cells": [
    {
      "cell_type": "markdown",
      "metadata": {
        "id": "2ZOVut_GbJMs",
        "colab_type": "text"
      },
      "source": [
        "# Regular Experession in Python"
      ]
    },
    {
      "cell_type": "markdown",
      "metadata": {
        "id": "_hDVx0XvbJMu",
        "colab_type": "text"
      },
      "source": [
        "#### What is regular Expression?\n",
        "\n",
        "A RegEx, or Regular Expression, is a sequence of characters that forms a search pattern in a string.\n",
        "RegEx can be used to check if a string contains the specified search pattern.\n",
        "Regular Expression is independent of any programming language, and you can find general rules of regular expression on [this link.](https://en.wikipedia.org/wiki/Regular_expression)\n",
        "\n",
        "> Regular expressions are used in search engines, search and replace dialogs of word processors and text editors, in text processing utilities such as sed and AWK and in lexical analysis. Many programming languages provide regex capabilities either built-in or via libraries.\n",
        "\n",
        "Python module re - provides regular expression matching operations similar to those found in Perl.\n",
        "[Here is original documentation of re module.](https://docs.python.org/3/library/re.html)\n",
        "Also, gentle introduction to usage of Regular expression in python is available [Here.](https://docs.python.org/3/howto/regex.html#regex-howto)\n",
        "\n",
        "\n",
        "* Refereces\n",
        "\n",
        "\n",
        "https://github.com/python/cpython/blob/3.8/Lib/re.py\n",
        "\n",
        "https://docs.python.org/3/library/re.html\n"
      ]
    },
    {
      "cell_type": "code",
      "metadata": {
        "id": "LRA5qyJYivtd",
        "colab_type": "code",
        "colab": {}
      },
      "source": [
        "import re"
      ],
      "execution_count": null,
      "outputs": []
    },
    {
      "cell_type": "markdown",
      "metadata": {
        "id": "NkzVeJz_h7Hp",
        "colab_type": "text"
      },
      "source": [
        "re module exports the following functions:\n",
        "\n",
        "    match     Match a regular expression pattern to the beginning of a string.\n",
        "    fullmatch Match a regular expression pattern to all of a string.\n",
        "    search    Search a string for the presence of a pattern.\n",
        "    sub       Substitute occurrences of a pattern found in a string.\n",
        "    subn      Same as sub, but also return the number of substitutions made.\n",
        "    split     Split a string by the occurrences of a pattern.\n",
        "    findall   Find all occurrences of a pattern in a string.\n",
        "    finditer  Return an iterator yielding a Match object for each match.\n",
        "    compile   Compile a pattern into a Pattern object.\n",
        "    purge     Clear the regular expression cache.\n",
        "    escape    Backslash all non-alphanumerics in a string."
      ]
    },
    {
      "cell_type": "code",
      "metadata": {
        "id": "zT_x_jUciQk-",
        "colab_type": "code",
        "colab": {
          "base_uri": "https://localhost:8080/",
          "height": 51
        },
        "outputId": "4d5335d4-9674-4f47-dbcd-42a09b066409"
      },
      "source": [
        "''' \n",
        "re.match(pattern, string, flags=0)\n",
        "\n",
        "If zero or more characters at the beginning of string match the regular expression pattern, \n",
        "return a corresponding match object. \n",
        "Return None if the string does not match the pattern; \n",
        "\n",
        "Note that even in MULTILINE mode, re.match() will only match at the \n",
        "beginning of the string and not at the beginning of each line.\n",
        "'''\n",
        "sample_string = \"If you have submitted your work, call me.\"\n",
        "print(re.match(\"If\", sample_string))\n",
        "print(re.match(\"work\", sample_string))"
      ],
      "execution_count": null,
      "outputs": [
        {
          "output_type": "stream",
          "text": [
            "<_sre.SRE_Match object; span=(0, 2), match='If'>\n",
            "None\n"
          ],
          "name": "stdout"
        }
      ]
    },
    {
      "cell_type": "code",
      "metadata": {
        "id": "FjqrCYYi8NcN",
        "colab_type": "code",
        "colab": {
          "base_uri": "https://localhost:8080/",
          "height": 51
        },
        "outputId": "b5459774-1988-4b91-dd8c-9ddfec64baa5"
      },
      "source": [
        "'''\n",
        "re.fullmatch(pattern, string, flags=0)\n",
        "\n",
        "If the whole string matches the regular expression pattern, return a corresponding match object. \n",
        "Return None if the string does not match the pattern; \n",
        "\n",
        "'''\n",
        "sample2 = \"Hello World\"\n",
        "print(re.fullmatch(\"work\", sample_string))\n",
        "print(re.fullmatch(\"Hello World\", sample2))"
      ],
      "execution_count": null,
      "outputs": [
        {
          "output_type": "stream",
          "text": [
            "None\n",
            "<_sre.SRE_Match object; span=(0, 11), match='Hello World'>\n"
          ],
          "name": "stdout"
        }
      ]
    },
    {
      "cell_type": "code",
      "metadata": {
        "id": "-AxcG-Fc9MV8",
        "colab_type": "code",
        "colab": {
          "base_uri": "https://localhost:8080/",
          "height": 68
        },
        "outputId": "c9a51dea-fb5a-47ce-fa4e-f542f0852964"
      },
      "source": [
        "'''\n",
        "re.search(pattern, string, flags=0)\n",
        "\n",
        "Scan through string looking for the first location \n",
        "where the regular expression pattern produces a match, and \n",
        "return a corresponding match object. \n",
        "Return None if no position in the string matches the pattern; \n",
        "\n",
        "'''\n",
        "\n",
        "print(re.search(\"if\", \"If if if\"))\n",
        "print(re.search(\"you\", sample_string))\n",
        "print(re.search(\"BYE\", \"Bye BYE bye\"))"
      ],
      "execution_count": null,
      "outputs": [
        {
          "output_type": "stream",
          "text": [
            "<_sre.SRE_Match object; span=(3, 5), match='if'>\n",
            "<_sre.SRE_Match object; span=(3, 6), match='you'>\n",
            "<_sre.SRE_Match object; span=(4, 7), match='BYE'>\n"
          ],
          "name": "stdout"
        }
      ]
    },
    {
      "cell_type": "code",
      "metadata": {
        "id": "AKxewHZL-POS",
        "colab_type": "code",
        "colab": {
          "base_uri": "https://localhost:8080/",
          "height": 85
        },
        "outputId": "4a7ca941-7e20-4568-a699-dc786b874f21"
      },
      "source": [
        "'''\n",
        "re.sub(pattern, repl, string, count=0, flags=0)\n",
        "  \n",
        "  Return the string obtained by replacing pattern in string by the repl. \n",
        "  If the pattern isn’t found, string is returned unchanged. \n",
        "  repl can be a string or a function; \n",
        "  if it is a string, any backslash escapes in it are processed. \n",
        "  That is, \\n is converted to a single newline character. \n",
        "  Unknown escapes of ASCII letters are reserved for future use and treated as errors. \n",
        "  Other unknown escapes such as \\& are left alone. \n",
        "  Backreferences, such as \\6, are replaced with the substring matched by group 6 in the pattern. \n",
        "'''\n",
        "\n",
        "print(re.sub(\"if\",\"my\" , \"if else if IFl\", 1))\n",
        "print(re.sub(\"call\",\"text\" , sample_string))\n",
        "print(re.sub(\",\",\"\\n\" , sample_string))"
      ],
      "execution_count": null,
      "outputs": [
        {
          "output_type": "stream",
          "text": [
            "my else if IFl\n",
            "If you have submitted your work, text me.\n",
            "If you have submitted your work\n",
            " call me.\n"
          ],
          "name": "stdout"
        }
      ]
    },
    {
      "cell_type": "code",
      "metadata": {
        "id": "C0OBbjcdBB5O",
        "colab_type": "code",
        "colab": {
          "base_uri": "https://localhost:8080/",
          "height": 68
        },
        "outputId": "d288a706-7408-4a77-f3ac-b1cc31132d3d"
      },
      "source": [
        "'''\n",
        "re.subn(pattern, repl, string, count=0, flags=0)\n",
        "\n",
        "Perform the same operation as sub(), but return a tuple (new_string, number_of_subs_made).\n",
        "'''\n",
        "\n",
        "print(re.subn(\"if\",\"my\" , \"if else if IFl\", 1))\n",
        "print(re.subn(\"call\",\"text\" , sample_string))\n",
        "print(re.subn(\",\",\"!\" , sample_string))"
      ],
      "execution_count": null,
      "outputs": [
        {
          "output_type": "stream",
          "text": [
            "('my else if IFl', 1)\n",
            "('If you have submitted your work, text me.', 1)\n",
            "('If you have submitted your work! call me.', 1)\n"
          ],
          "name": "stdout"
        }
      ]
    },
    {
      "cell_type": "code",
      "metadata": {
        "id": "YlgFOG-_Bdpe",
        "colab_type": "code",
        "colab": {
          "base_uri": "https://localhost:8080/",
          "height": 68
        },
        "outputId": "d77f5e42-0977-4b5a-a5b0-3cf1f7d82dc0"
      },
      "source": [
        "'''\n",
        "re.split(pattern, string, maxsplit=0, flags=0)\n",
        "\n",
        "Split string by the occurrences of pattern. \n",
        "If capturing parentheses are used in pattern, \n",
        "then the text of all groups in the pattern are also returned as part of the resulting list. \n",
        "If maxsplit is nonzero, at most maxsplit splits occur, \n",
        "and the remainder of the string is returned as the final element of the list.\n",
        "'''\n",
        "\n",
        "print(re.split(\"f\",\"if else if IFl\",1))\n",
        "print(re.split(\"y\", sample_string,1))\n",
        "print(re.split(\" \", sample2,1))"
      ],
      "execution_count": null,
      "outputs": [
        {
          "output_type": "stream",
          "text": [
            "['i', ' else if IFl']\n",
            "['If ', 'ou have submitted your work, call me.']\n",
            "['Hello', 'World']\n"
          ],
          "name": "stdout"
        }
      ]
    },
    {
      "cell_type": "code",
      "metadata": {
        "id": "yAf2zwjMDpeM",
        "colab_type": "code",
        "colab": {
          "base_uri": "https://localhost:8080/",
          "height": 68
        },
        "outputId": "b815aab6-53c4-4142-e92f-1e74978e7085"
      },
      "source": [
        "'''\n",
        "re.findall(pattern, string, flags=0)\n",
        "\n",
        "Return all non-overlapping matches of pattern in string, as a list of strings. \n",
        "The string is scanned left-to-right, and matches are returned in the order found. \n",
        "If one or more groups are present in the pattern, return a list of groups; \n",
        "this will be a list of tuples if the pattern has more than one group. \n",
        "Empty matches are included in the result.\n",
        "'''\n",
        "\n",
        "print(re.findall(\"se\",\"if else if and else if ok\"))\n",
        "print(re.findall(\"you\", sample_string))\n",
        "print(re.findall(\"ee\", \"See you soon, byee!\"))"
      ],
      "execution_count": null,
      "outputs": [
        {
          "output_type": "stream",
          "text": [
            "['se', 'se']\n",
            "['you', 'you']\n",
            "['ee', 'ee']\n"
          ],
          "name": "stdout"
        }
      ]
    },
    {
      "cell_type": "code",
      "metadata": {
        "id": "a4ktswi2EvqE",
        "colab_type": "code",
        "colab": {
          "base_uri": "https://localhost:8080/",
          "height": 136
        },
        "outputId": "81c93ef0-29e3-4970-889f-0466a5ddc581"
      },
      "source": [
        "'''\n",
        "re.finditer(pattern, string, flags=0)\n",
        "\n",
        "Return an iterator yielding match objects over all non-overlapping matches \n",
        "for the RE pattern in string. \n",
        "The string is scanned left-to-right, and matches are returned in the order found. \n",
        "'''\n",
        "print(re.finditer(\"if\",\"if else if and else if ok\"))\n",
        "print(re.finditer(\"you\", sample_string))\n",
        "rex = re.finditer(\"if\",\"if else if and else if ok\")\n",
        "rex2 = re.finditer(\"you\", sample_string)\n",
        "for i in rex:\n",
        "  print(i)\n",
        "for i in rex2:\n",
        "  print(i)"
      ],
      "execution_count": null,
      "outputs": [
        {
          "output_type": "stream",
          "text": [
            "<callable_iterator object at 0x7f19cdb91d68>\n",
            "<callable_iterator object at 0x7f19cdb91dd8>\n",
            "<_sre.SRE_Match object; span=(0, 2), match='if'>\n",
            "<_sre.SRE_Match object; span=(8, 10), match='if'>\n",
            "<_sre.SRE_Match object; span=(20, 22), match='if'>\n",
            "<_sre.SRE_Match object; span=(3, 6), match='you'>\n",
            "<_sre.SRE_Match object; span=(22, 25), match='you'>\n"
          ],
          "name": "stdout"
        }
      ]
    },
    {
      "cell_type": "code",
      "metadata": {
        "id": "iYpwvA_EFikH",
        "colab_type": "code",
        "colab": {
          "base_uri": "https://localhost:8080/",
          "height": 85
        },
        "outputId": "98c17843-31cc-4838-b5f9-04ab6221a7d1"
      },
      "source": [
        "'''\n",
        "re.compile(pattern, flags=0)\n",
        "\n",
        "Compile a regular expression pattern into a regular expression object,\n",
        " which can be used for matching using its match(), search() and other methods.\n",
        "\n",
        "The expression’s behaviour can be modified by specifying a flags value. \n",
        "Flag Values can be any of the re flag variables, combined using bitwise OR (the | operator).\n",
        "\n",
        "Note: Using re.compile() and saving the resulting regular expression object for \n",
        "reuse is more efficient when the expression will be used several times in a single program.\n",
        "'''\n",
        "string = \"a is good at a\"\n",
        "pattern = \"^a[a-z ]*a$\" # Start with a, followed by any small character or space zero or more time, \n",
        "                        # and should end with small a\" \n",
        "patt = re.compile(pattern)\n",
        "result = patt.match(string)\n",
        "print(result)\n",
        "result = re.match(pattern, string)\n",
        "print(result)\n",
        "\n",
        "string1 = \"s is as bad as s\"\n",
        "pattern1 = \"^s[a-z ]*s$\"\n",
        "patt = re.compile(pattern1)\n",
        "result = patt.match(string1)\n",
        "print(result)\n",
        "result = re.match(pattern1, string1)\n",
        "print(result)"
      ],
      "execution_count": null,
      "outputs": [
        {
          "output_type": "stream",
          "text": [
            "<_sre.SRE_Match object; span=(0, 14), match='a is good at a'>\n",
            "<_sre.SRE_Match object; span=(0, 14), match='a is good at a'>\n",
            "<_sre.SRE_Match object; span=(0, 16), match='s is as bad as s'>\n",
            "<_sre.SRE_Match object; span=(0, 16), match='s is as bad as s'>\n"
          ],
          "name": "stdout"
        }
      ]
    },
    {
      "cell_type": "code",
      "metadata": {
        "id": "WrneFF8oJQ5X",
        "colab_type": "code",
        "colab": {
          "base_uri": "https://localhost:8080/",
          "height": 35
        },
        "outputId": "9c1a2b10-0739-4e94-e42f-08e4c5b42530"
      },
      "source": [
        "'''\n",
        "re.purge()\n",
        "  Clear the regular expression cache.\n",
        "'''"
      ],
      "execution_count": null,
      "outputs": [
        {
          "output_type": "execute_result",
          "data": {
            "application/vnd.google.colaboratory.intrinsic+json": {
              "type": "string"
            },
            "text/plain": [
              "'\\nre.purge()\\n  Clear the regular expression cache.\\n'"
            ]
          },
          "metadata": {
            "tags": []
          },
          "execution_count": 86
        }
      ]
    },
    {
      "cell_type": "code",
      "metadata": {
        "id": "Q6AoTKi9Jjf_",
        "colab_type": "code",
        "colab": {
          "base_uri": "https://localhost:8080/",
          "height": 51
        },
        "outputId": "20671424-32e2-406c-e1ef-88607610db16"
      },
      "source": [
        "'''\n",
        "re.escape(pattern)\n",
        "Escape special characters in pattern. \n",
        "This is useful if you want to match an arbitrary literal string \n",
        "that may have regular expression metacharacters in it.\n",
        "'''\n",
        "print(re.escape(\"h.(h)\"))\n",
        "print(re.escape('http://www.python.org'))"
      ],
      "execution_count": null,
      "outputs": [
        {
          "output_type": "stream",
          "text": [
            "h\\.\\(h\\)\n",
            "http\\:\\/\\/www\\.python\\.org\n"
          ],
          "name": "stdout"
        }
      ]
    }
  ]
}